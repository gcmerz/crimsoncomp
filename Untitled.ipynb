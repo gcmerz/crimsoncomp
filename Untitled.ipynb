{
 "cells": [
  {
   "cell_type": "code",
   "execution_count": 9,
   "metadata": {},
   "outputs": [],
   "source": [
    "from collections import Counter\n",
    "def swapchars(tosort):\n",
    "    mostLeast = Counter(tosort.lower().translate(None, string.isalpha))\n",
    "    del mostLeast[' ']\n",
    "    mostLeast = mostLeast.most_common()\n",
    "    mostLeast = [mostLeast[0][0],mostLeast[-1][0],mostLeast[0][0].upper(),mostLeast[-1][0].upper()]\n",
    "    switchedString = ''\n",
    "    for char in tosort:\n",
    "        if char == mostLeast[0]:\n",
    "            char = mostLeast[1]\n",
    "        elif char == mostLeast[2]:\n",
    "            char = mostLeast[3]\n",
    "        elif char == mostLeast[1]:\n",
    "            char = mostLeast[0]\n",
    "        elif char == mostLeast[3]:\n",
    "            char = mostLeast[2]\n",
    "        switchedString = switchedString+char\n",
    "    return(switchedString)"
   ]
  },
  {
   "cell_type": "code",
   "execution_count": 10,
   "metadata": {},
   "outputs": [
    {
     "ename": "AttributeError",
     "evalue": "'module' object has no attribute 'isalpha'",
     "output_type": "error",
     "traceback": [
      "\u001b[0;31m---------------------------------------------------------------------------\u001b[0m",
      "\u001b[0;31mAttributeError\u001b[0m                            Traceback (most recent call last)",
      "\u001b[0;32m<ipython-input-10-c717dabd67ee>\u001b[0m in \u001b[0;36m<module>\u001b[0;34m()\u001b[0m\n\u001b[0;32m----> 1\u001b[0;31m \u001b[0mswapchars\u001b[0m\u001b[0;34m(\u001b[0m\u001b[0;34m'111133aab'\u001b[0m\u001b[0;34m)\u001b[0m\u001b[0;34m\u001b[0m\u001b[0m\n\u001b[0m",
      "\u001b[0;32m<ipython-input-9-746eb2aa4cfd>\u001b[0m in \u001b[0;36mswapchars\u001b[0;34m(tosort)\u001b[0m\n\u001b[1;32m      1\u001b[0m \u001b[0;32mfrom\u001b[0m \u001b[0mcollections\u001b[0m \u001b[0;32mimport\u001b[0m \u001b[0mCounter\u001b[0m\u001b[0;34m\u001b[0m\u001b[0m\n\u001b[1;32m      2\u001b[0m \u001b[0;32mdef\u001b[0m \u001b[0mswapchars\u001b[0m\u001b[0;34m(\u001b[0m\u001b[0mtosort\u001b[0m\u001b[0;34m)\u001b[0m\u001b[0;34m:\u001b[0m\u001b[0;34m\u001b[0m\u001b[0m\n\u001b[0;32m----> 3\u001b[0;31m     \u001b[0mmostLeast\u001b[0m \u001b[0;34m=\u001b[0m \u001b[0mCounter\u001b[0m\u001b[0;34m(\u001b[0m\u001b[0mtosort\u001b[0m\u001b[0;34m.\u001b[0m\u001b[0mlower\u001b[0m\u001b[0;34m(\u001b[0m\u001b[0;34m)\u001b[0m\u001b[0;34m.\u001b[0m\u001b[0mtranslate\u001b[0m\u001b[0;34m(\u001b[0m\u001b[0mNone\u001b[0m\u001b[0;34m,\u001b[0m \u001b[0mstring\u001b[0m\u001b[0;34m.\u001b[0m\u001b[0misalpha\u001b[0m\u001b[0;34m)\u001b[0m\u001b[0;34m)\u001b[0m\u001b[0;34m\u001b[0m\u001b[0m\n\u001b[0m\u001b[1;32m      4\u001b[0m     \u001b[0;32mdel\u001b[0m \u001b[0mmostLeast\u001b[0m\u001b[0;34m[\u001b[0m\u001b[0;34m' '\u001b[0m\u001b[0;34m]\u001b[0m\u001b[0;34m\u001b[0m\u001b[0m\n\u001b[1;32m      5\u001b[0m     \u001b[0mmostLeast\u001b[0m \u001b[0;34m=\u001b[0m \u001b[0mmostLeast\u001b[0m\u001b[0;34m.\u001b[0m\u001b[0mmost_common\u001b[0m\u001b[0;34m(\u001b[0m\u001b[0;34m)\u001b[0m\u001b[0;34m\u001b[0m\u001b[0m\n",
      "\u001b[0;31mAttributeError\u001b[0m: 'module' object has no attribute 'isalpha'"
     ]
    }
   ],
   "source": [
    "swapchars('111133aab')"
   ]
  },
  {
   "cell_type": "code",
   "execution_count": 11,
   "metadata": {
    "collapsed": true
   },
   "outputs": [],
   "source": [
    "def sortcat(num, tosort):\n",
    "    if num >= len(tosort) or num < -len(tosort):\n",
    "        print\"Error: number of requested entries greater than length of list.\\nHere is a result limited to the length of the list:\\n\"\n",
    "        num = -n\n",
    "    tosort=sorted(tosort,key=len,reverse=True)\n",
    "    tempString =''\n",
    "    stringAppend = tempString.join([a for a in tosort[0:num]])\n",
    "    if num < 0: stringAppend = stringAppend+tosort[num]\n",
    "    return stringAppend"
   ]
  },
  {
   "cell_type": "code",
   "execution_count": 15,
   "metadata": {},
   "outputs": [
    {
     "data": {
      "text/plain": [
       "'sdfdasd'"
      ]
     },
     "execution_count": 15,
     "metadata": {},
     "output_type": "execute_result"
    }
   ],
   "source": [
    "sortcat(2,['asd','asd','sdfd'])"
   ]
  },
  {
   "cell_type": "code",
   "execution_count": null,
   "metadata": {
    "collapsed": true
   },
   "outputs": [],
   "source": []
  }
 ],
 "metadata": {
  "kernelspec": {
   "display_name": "Python 2",
   "language": "python",
   "name": "python2"
  },
  "language_info": {
   "codemirror_mode": {
    "name": "ipython",
    "version": 2
   },
   "file_extension": ".py",
   "mimetype": "text/x-python",
   "name": "python",
   "nbconvert_exporter": "python",
   "pygments_lexer": "ipython2",
   "version": "2.7.13"
  }
 },
 "nbformat": 4,
 "nbformat_minor": 2
}
